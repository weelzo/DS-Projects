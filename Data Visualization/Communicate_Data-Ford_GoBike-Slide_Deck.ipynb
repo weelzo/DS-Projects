{
 "cells": [
  {
   "cell_type": "markdown",
   "metadata": {
    "slideshow": {
     "slide_type": "slide"
    }
   },
   "source": [
    "# Ford GoBike Data\n",
    "## (April 2019)\n",
    "### by Wael Samoil\n",
    "\n",
    "## Preliminary Wrangling\n"
   ]
  },
  {
   "cell_type": "code",
   "execution_count": 1,
   "metadata": {
    "slideshow": {
     "slide_type": "skip"
    }
   },
   "outputs": [],
   "source": [
    "# import all packages\n",
    "import numpy as np\n",
    "import pandas as pd\n",
    "import matplotlib.pyplot as plt\n",
    "import seaborn as sb\n",
    "\n",
    "%matplotlib inline"
   ]
  },
  {
   "cell_type": "code",
   "execution_count": 2,
   "metadata": {
    "slideshow": {
     "slide_type": "skip"
    }
   },
   "outputs": [
    {
     "name": "stdout",
     "output_type": "stream",
     "text": [
      "(239111, 14)\n",
      "<class 'pandas.core.frame.DataFrame'>\n",
      "RangeIndex: 239111 entries, 0 to 239110\n",
      "Data columns (total 14 columns):\n",
      "duration_sec               239111 non-null int64\n",
      "start_time                 239111 non-null object\n",
      "end_time                   239111 non-null object\n",
      "start_station_id           239047 non-null float64\n",
      "start_station_name         239047 non-null object\n",
      "start_station_latitude     239111 non-null float64\n",
      "start_station_longitude    239111 non-null float64\n",
      "end_station_id             239047 non-null float64\n",
      "end_station_name           239047 non-null object\n",
      "end_station_latitude       239111 non-null float64\n",
      "end_station_longitude      239111 non-null float64\n",
      "bike_id                    239111 non-null int64\n",
      "user_type                  239111 non-null object\n",
      "bike_share_for_all_trip    239111 non-null object\n",
      "dtypes: float64(6), int64(2), object(6)\n",
      "memory usage: 25.5+ MB\n",
      "None\n"
     ]
    }
   ],
   "source": [
    "# load in the Ford GoBike dataset into a pandas dataframe\n",
    "df = pd.read_csv('201904-fordgobike-tripdata.csv')\n",
    "#explore the data\n",
    "print(df.shape)\n",
    "print(df.info())\n"
   ]
  },
  {
   "cell_type": "code",
   "execution_count": 3,
   "metadata": {
    "slideshow": {
     "slide_type": "skip"
    }
   },
   "outputs": [
    {
     "data": {
      "text/html": [
       "<div>\n",
       "<style scoped>\n",
       "    .dataframe tbody tr th:only-of-type {\n",
       "        vertical-align: middle;\n",
       "    }\n",
       "\n",
       "    .dataframe tbody tr th {\n",
       "        vertical-align: top;\n",
       "    }\n",
       "\n",
       "    .dataframe thead th {\n",
       "        text-align: right;\n",
       "    }\n",
       "</style>\n",
       "<table border=\"1\" class=\"dataframe\">\n",
       "  <thead>\n",
       "    <tr style=\"text-align: right;\">\n",
       "      <th></th>\n",
       "      <th>duration_sec</th>\n",
       "      <th>start_time</th>\n",
       "      <th>end_time</th>\n",
       "      <th>start_station_id</th>\n",
       "      <th>start_station_name</th>\n",
       "      <th>start_station_latitude</th>\n",
       "      <th>start_station_longitude</th>\n",
       "      <th>end_station_id</th>\n",
       "      <th>end_station_name</th>\n",
       "      <th>end_station_latitude</th>\n",
       "      <th>end_station_longitude</th>\n",
       "      <th>bike_id</th>\n",
       "      <th>user_type</th>\n",
       "      <th>bike_share_for_all_trip</th>\n",
       "    </tr>\n",
       "  </thead>\n",
       "  <tbody>\n",
       "    <tr>\n",
       "      <td>0</td>\n",
       "      <td>50305</td>\n",
       "      <td>2019-04-30 22:33:55.1550</td>\n",
       "      <td>2019-05-01 12:32:20.4540</td>\n",
       "      <td>368.0</td>\n",
       "      <td>Myrtle St at Polk St</td>\n",
       "      <td>37.785434</td>\n",
       "      <td>-122.419622</td>\n",
       "      <td>324.0</td>\n",
       "      <td>Union Square (Powell St at Post St)</td>\n",
       "      <td>37.788300</td>\n",
       "      <td>-122.408531</td>\n",
       "      <td>2749</td>\n",
       "      <td>Subscriber</td>\n",
       "      <td>No</td>\n",
       "    </tr>\n",
       "    <tr>\n",
       "      <td>1</td>\n",
       "      <td>53725</td>\n",
       "      <td>2019-04-30 20:43:41.6320</td>\n",
       "      <td>2019-05-01 11:39:06.9170</td>\n",
       "      <td>246.0</td>\n",
       "      <td>Berkeley Civic Center</td>\n",
       "      <td>37.869060</td>\n",
       "      <td>-122.270556</td>\n",
       "      <td>241.0</td>\n",
       "      <td>Ashby BART Station</td>\n",
       "      <td>37.852477</td>\n",
       "      <td>-122.270213</td>\n",
       "      <td>2608</td>\n",
       "      <td>Customer</td>\n",
       "      <td>No</td>\n",
       "    </tr>\n",
       "    <tr>\n",
       "      <td>2</td>\n",
       "      <td>78072</td>\n",
       "      <td>2019-04-30 10:32:46.4890</td>\n",
       "      <td>2019-05-01 08:13:58.9750</td>\n",
       "      <td>64.0</td>\n",
       "      <td>5th St at Brannan St</td>\n",
       "      <td>37.776754</td>\n",
       "      <td>-122.399018</td>\n",
       "      <td>64.0</td>\n",
       "      <td>5th St at Brannan St</td>\n",
       "      <td>37.776754</td>\n",
       "      <td>-122.399018</td>\n",
       "      <td>258</td>\n",
       "      <td>Subscriber</td>\n",
       "      <td>No</td>\n",
       "    </tr>\n",
       "    <tr>\n",
       "      <td>3</td>\n",
       "      <td>78969</td>\n",
       "      <td>2019-04-30 10:00:51.5500</td>\n",
       "      <td>2019-05-01 07:57:01.2620</td>\n",
       "      <td>67.0</td>\n",
       "      <td>San Francisco Caltrain Station 2  (Townsend St...</td>\n",
       "      <td>37.776639</td>\n",
       "      <td>-122.395526</td>\n",
       "      <td>89.0</td>\n",
       "      <td>Division St at Potrero Ave</td>\n",
       "      <td>37.769218</td>\n",
       "      <td>-122.407646</td>\n",
       "      <td>1974</td>\n",
       "      <td>Subscriber</td>\n",
       "      <td>No</td>\n",
       "    </tr>\n",
       "    <tr>\n",
       "      <td>4</td>\n",
       "      <td>1128</td>\n",
       "      <td>2019-04-30 23:59:04.7390</td>\n",
       "      <td>2019-05-01 00:17:53.0910</td>\n",
       "      <td>124.0</td>\n",
       "      <td>19th St at Florida St</td>\n",
       "      <td>37.760447</td>\n",
       "      <td>-122.410807</td>\n",
       "      <td>5.0</td>\n",
       "      <td>Powell St BART Station (Market St at 5th St)</td>\n",
       "      <td>37.783899</td>\n",
       "      <td>-122.408445</td>\n",
       "      <td>877</td>\n",
       "      <td>Subscriber</td>\n",
       "      <td>No</td>\n",
       "    </tr>\n",
       "  </tbody>\n",
       "</table>\n",
       "</div>"
      ],
      "text/plain": [
       "   duration_sec                start_time                  end_time  \\\n",
       "0         50305  2019-04-30 22:33:55.1550  2019-05-01 12:32:20.4540   \n",
       "1         53725  2019-04-30 20:43:41.6320  2019-05-01 11:39:06.9170   \n",
       "2         78072  2019-04-30 10:32:46.4890  2019-05-01 08:13:58.9750   \n",
       "3         78969  2019-04-30 10:00:51.5500  2019-05-01 07:57:01.2620   \n",
       "4          1128  2019-04-30 23:59:04.7390  2019-05-01 00:17:53.0910   \n",
       "\n",
       "   start_station_id                                 start_station_name  \\\n",
       "0             368.0                               Myrtle St at Polk St   \n",
       "1             246.0                              Berkeley Civic Center   \n",
       "2              64.0                               5th St at Brannan St   \n",
       "3              67.0  San Francisco Caltrain Station 2  (Townsend St...   \n",
       "4             124.0                              19th St at Florida St   \n",
       "\n",
       "   start_station_latitude  start_station_longitude  end_station_id  \\\n",
       "0               37.785434              -122.419622           324.0   \n",
       "1               37.869060              -122.270556           241.0   \n",
       "2               37.776754              -122.399018            64.0   \n",
       "3               37.776639              -122.395526            89.0   \n",
       "4               37.760447              -122.410807             5.0   \n",
       "\n",
       "                               end_station_name  end_station_latitude  \\\n",
       "0           Union Square (Powell St at Post St)             37.788300   \n",
       "1                            Ashby BART Station             37.852477   \n",
       "2                          5th St at Brannan St             37.776754   \n",
       "3                    Division St at Potrero Ave             37.769218   \n",
       "4  Powell St BART Station (Market St at 5th St)             37.783899   \n",
       "\n",
       "   end_station_longitude  bike_id   user_type bike_share_for_all_trip  \n",
       "0            -122.408531     2749  Subscriber                      No  \n",
       "1            -122.270213     2608    Customer                      No  \n",
       "2            -122.399018      258  Subscriber                      No  \n",
       "3            -122.407646     1974  Subscriber                      No  \n",
       "4            -122.408445      877  Subscriber                      No  "
      ]
     },
     "execution_count": 3,
     "metadata": {},
     "output_type": "execute_result"
    }
   ],
   "source": [
    "df.head()"
   ]
  },
  {
   "cell_type": "code",
   "execution_count": 4,
   "metadata": {
    "slideshow": {
     "slide_type": "skip"
    }
   },
   "outputs": [],
   "source": [
    "#convert the 2 features to DateTime type to use these 2 feture in future data exploration\n",
    "df.start_time = pd.to_datetime(df.start_time)\n",
    "df.end_time = pd.to_datetime(df.end_time)"
   ]
  },
  {
   "cell_type": "code",
   "execution_count": 5,
   "metadata": {
    "slideshow": {
     "slide_type": "skip"
    }
   },
   "outputs": [
    {
     "name": "stdout",
     "output_type": "stream",
     "text": [
      "duration_sec                0\n",
      "start_time                  0\n",
      "end_time                    0\n",
      "start_station_id           64\n",
      "start_station_name         64\n",
      "start_station_latitude      0\n",
      "start_station_longitude     0\n",
      "end_station_id             64\n",
      "end_station_name           64\n",
      "end_station_latitude        0\n",
      "end_station_longitude       0\n",
      "bike_id                     0\n",
      "user_type                   0\n",
      "bike_share_for_all_trip     0\n",
      "dtype: int64\n"
     ]
    }
   ],
   "source": [
    "#Missing data\n",
    "print(df.isnull().sum())"
   ]
  },
  {
   "cell_type": "code",
   "execution_count": 6,
   "metadata": {
    "slideshow": {
     "slide_type": "skip"
    }
   },
   "outputs": [
    {
     "data": {
      "text/plain": [
       "0.0267658116941476"
      ]
     },
     "execution_count": 6,
     "metadata": {},
     "output_type": "execute_result"
    }
   ],
   "source": [
    "# % of rows that have at least one missing data\n",
    "100-100*(df.dropna().shape[0])/len(df)"
   ]
  },
  {
   "cell_type": "code",
   "execution_count": 7,
   "metadata": {
    "slideshow": {
     "slide_type": "skip"
    }
   },
   "outputs": [
    {
     "name": "stdout",
     "output_type": "stream",
     "text": [
      "<class 'pandas.core.frame.DataFrame'>\n",
      "RangeIndex: 239111 entries, 0 to 239110\n",
      "Data columns (total 14 columns):\n",
      "duration_sec               239111 non-null int64\n",
      "start_time                 239111 non-null datetime64[ns]\n",
      "end_time                   239111 non-null datetime64[ns]\n",
      "start_station_id           239047 non-null float64\n",
      "start_station_name         239047 non-null object\n",
      "start_station_latitude     239111 non-null float64\n",
      "start_station_longitude    239111 non-null float64\n",
      "end_station_id             239047 non-null float64\n",
      "end_station_name           239047 non-null object\n",
      "end_station_latitude       239111 non-null float64\n",
      "end_station_longitude      239111 non-null float64\n",
      "bike_id                    239111 non-null int64\n",
      "user_type                  239111 non-null object\n",
      "bike_share_for_all_trip    239111 non-null object\n",
      "dtypes: datetime64[ns](2), float64(6), int64(2), object(4)\n",
      "memory usage: 25.5+ MB\n",
      "None\n"
     ]
    }
   ],
   "source": [
    "print(df.info())"
   ]
  },
  {
   "cell_type": "code",
   "execution_count": 8,
   "metadata": {
    "slideshow": {
     "slide_type": "skip"
    }
   },
   "outputs": [
    {
     "name": "stdout",
     "output_type": "stream",
     "text": [
      "['Subscriber' 'Customer']\n"
     ]
    }
   ],
   "source": [
    "print(df.user_type.unique())"
   ]
  },
  {
   "cell_type": "markdown",
   "metadata": {
    "slideshow": {
     "slide_type": "slide"
    }
   },
   "source": [
    "### What is the structure of your dataset?\n",
    "\n",
    "> The GoFord dataset contains 14  feature and 239111 observation. less than 1% of data have at least one missing value.it affect my analysis of the data so i will not drop any row of this data.\n",
    "\n",
    "> Data Features:\n",
    "- Trip Duration (seconds)\n",
    "- Start Time and Date\n",
    "- End Time and Date\n",
    "- Start Station ID\n",
    "- Start Station Name\n",
    "- Start Station Latitude\n",
    "- Start Station Longitude\n",
    "- End Station ID\n",
    "- End Station Name\n",
    "- End Station Latitude\n",
    "- End Station Longitude\n",
    "- Bike ID\n",
    "- User Type (Subscriber or Customer – “Subscriber” = Member or “Customer” = Casual)      \n",
    "\n",
    "### What is/are the main feature(s) of interest in your dataset?\n",
    "\n",
    "    > The main features that interest me are the number of trips and the relation of the number of trips and other features. \n",
    "    another feature that interests me is the trip duration and relation of the time and other features.\n",
    "\n",
    "### What features in the dataset do you think will help support your investigation into your feature(s) of interest?\n",
    "\n",
    "> Featres are:\n",
    "- Trip Duration (seconds)\n",
    "- Start Time and Date\n",
    "- End Time and Date\n",
    "- User Type\n"
   ]
  },
  {
   "cell_type": "markdown",
   "metadata": {
    "slideshow": {
     "slide_type": "slide"
    }
   },
   "source": [
    "## Univariate Exploration\n",
    "\n",
    "> In this section, investigate distributions of individual variables. If\n",
    "you see unusual points or outliers, take a deeper look to clean things up\n",
    "and prepare yourself to look at relationships between variables."
   ]
  },
  {
   "cell_type": "code",
   "execution_count": 9,
   "metadata": {
    "slideshow": {
     "slide_type": "skip"
    }
   },
   "outputs": [
    {
     "data": {
      "text/plain": [
       "count    239111.000000\n",
       "mean        802.671199\n",
       "std        1990.006091\n",
       "min          61.000000\n",
       "25%         349.000000\n",
       "50%         558.000000\n",
       "75%         876.000000\n",
       "max       86114.000000\n",
       "Name: duration_sec, dtype: float64"
      ]
     },
     "execution_count": 9,
     "metadata": {},
     "output_type": "execute_result"
    }
   ],
   "source": [
    "#Duration in SEC statistics\n",
    "df.duration_sec.describe()"
   ]
  },
  {
   "cell_type": "code",
   "execution_count": 10,
   "metadata": {
    "slideshow": {
     "slide_type": "subslide"
    }
   },
   "outputs": [
    {
     "data": {
      "image/png": "[encoded data removed]",
      "text/plain": [
       "<Figure size 432x288 with 1 Axes>"
      ]
     },
     "metadata": {
      "needs_background": "light"
     },
     "output_type": "display_data"
    }
   ],
   "source": [
    "# Trip duration in seconds distribution\n",
    "bin_edges = np.arange(0, 2000, 30)\n",
    "\n",
    "plt.hist(data = df, x = 'duration_sec', bins = bin_edges);\n",
    "\n",
    "plt.title(\"Ford GoBike System Rides Duration in Seconds\",fontweight='bold')\n",
    "plt.xlabel('Duration in SEC')\n",
    "plt.ylabel('Number of Rides');"
   ]
  },
  {
   "cell_type": "markdown",
   "metadata": {
    "slideshow": {
     "slide_type": "notes"
    }
   },
   "source": [
    "> The rides duration usualy between 200 Sec and 750 Sec which means 3.3 Min and 12.5 Min"
   ]
  },
  {
   "cell_type": "code",
   "execution_count": 11,
   "metadata": {
    "slideshow": {
     "slide_type": "subslide"
    }
   },
   "outputs": [
    {
     "data": {
      "image/png": "[encoded data removed]",
      "text/plain": [
       "<Figure size 360x360 with 1 Axes>"
      ]
     },
     "metadata": {
      "needs_background": "light"
     },
     "output_type": "display_data"
    }
   ],
   "source": [
    "#relation between week days and number of trips\n",
    "weekday = ['Mon', 'Tue', 'Wed', 'Thu', 'Fri','Sat','Sun']\n",
    "df['start_time_day'] = df['start_time'].dt.strftime('%a')\n",
    "day_chart = sb.catplot(data = df, y ='start_time_day', kind = 'count', color = sb.color_palette()[0],order = weekday,aspect = 1);\n",
    "\n",
    "day_chart.set_axis_labels('Month', 'Number Rides'),\n",
    "\n",
    "day_chart.fig.suptitle('Ford GoBike Monthly Usage',y = 1, fontweight='bold');"
   ]
  },
  {
   "cell_type": "markdown",
   "metadata": {
    "slideshow": {
     "slide_type": "notes"
    }
   },
   "source": [
    "> From the above plot, I conclude that the mainstream usage in working days. It seems that users use a bike to go to work."
   ]
  },
  {
   "cell_type": "code",
   "execution_count": 12,
   "metadata": {
    "slideshow": {
     "slide_type": "subslide"
    }
   },
   "outputs": [
    {
     "data": {
      "image/png": "[encoded data removed]",
      "text/plain": [
       "<Figure size 720x360 with 1 Axes>"
      ]
     },
     "metadata": {
      "needs_background": "light"
     },
     "output_type": "display_data"
    }
   ],
   "source": [
    "#relation between day hours and number of trips\n",
    "df['start_time_hour'] = df['start_time'].dt.hour\n",
    "hour_chart = sb.catplot(data = df, x='start_time_hour', kind='count', color = sb.color_palette()[0], aspect = 2)\n",
    "\n",
    "hour_chart.set_axis_labels('Hours', 'Number Rides')\n",
    "\n",
    "hour_chart.fig.suptitle('Ford GoBike System Hourly Usage',y = 1, fontweight='bold');"
   ]
  },
  {
   "cell_type": "markdown",
   "metadata": {
    "slideshow": {
     "slide_type": "notes"
    }
   },
   "source": [
    "> The above plot proved my hypothesis, the users use Ford GoBike as transportation to go to work and return from work to home"
   ]
  },
  {
   "cell_type": "code",
   "execution_count": 13,
   "metadata": {
    "slideshow": {
     "slide_type": "subslide"
    }
   },
   "outputs": [
    {
     "data": {
      "image/png": "[encoded data removed]",
      "text/plain": [
       "<Figure size 360x360 with 1 Axes>"
      ]
     },
     "metadata": {
      "needs_background": "light"
     },
     "output_type": "display_data"
    }
   ],
   "source": [
    "#relation between users type and number of trips\n",
    "user_chart = sb.catplot(data = df, x='user_type', kind='count',  aspect = 1)\n",
    "\n",
    "user_chart.set_axis_labels('Members', 'Number of Rides')\n",
    "\n",
    "user_chart.fig.suptitle('Ford GoBike System Users Usage',y=1, fontweight='bold');\n"
   ]
  },
  {
   "cell_type": "markdown",
   "metadata": {
    "slideshow": {
     "slide_type": "notes"
    }
   },
   "source": [
    "> It seems that subscribers use GoBike way more than customers.so, Ford GoBike should get more subscribers to get more number of rides."
   ]
  },
  {
   "cell_type": "markdown",
   "metadata": {
    "slideshow": {
     "slide_type": "slide"
    }
   },
   "source": [
    "### Discuss the distribution(s) of your variable(s) of interest. Were there any unusual points? Did you need to perform any transformations?\n",
    "\n",
    "> The distributions seem normally, the usage of bikes increases in working days and decreases on weekends. also, the time of the number of users is increasing in the morning during going to work and afternoon during back home.\n",
    "\n",
    "### Of the features you investigated, were there any unusual distributions? Did you perform any operations on the data to tidy, adjust, or change the form of the data? If so, why did you do this?\n",
    "\n",
    "> So far the data has usual distribution.\n",
    "> I Converted the time fields from object to DateTime to be able to deal with it."
   ]
  },
  {
   "cell_type": "markdown",
   "metadata": {
    "slideshow": {
     "slide_type": "slide"
    }
   },
   "source": [
    "## Bivariate Exploration\n",
    "\n",
    "> In this section, investigate relationships between pairs of variables in your\n",
    "data. Make sure the variables that you cover here have been introduced in some\n",
    "fashion in the previous section (univariate exploration)."
   ]
  },
  {
   "cell_type": "code",
   "execution_count": 14,
   "metadata": {
    "slideshow": {
     "slide_type": "subslide"
    }
   },
   "outputs": [
    {
     "data": {
      "image/png": "[encoded data removed]",
      "text/plain": [
       "<Figure size 1440x360 with 2 Axes>"
      ]
     },
     "metadata": {
      "needs_background": "light"
     },
     "output_type": "display_data"
    }
   ],
   "source": [
    "#relation between day hours and number of trips and user type\n",
    "user_type_chart = sb.catplot(data=df, x='start_time_hour', col=\"user_type\", kind='count', color = sb.color_palette()[0], aspect = 2);\n",
    "\n",
    "user_type_chart.set_axis_labels(\"Hour\", \"Number of Rides\");\n",
    "user_type_chart.set_titles(\"{col_name}\");\n",
    "\n",
    "user_type_chart.fig.suptitle('Ford GoBike System - Customers vs. Subscribers', y=1,  fontweight='bold');\n"
   ]
  },
  {
   "cell_type": "code",
   "execution_count": 15,
   "metadata": {
    "slideshow": {
     "slide_type": "subslide"
    }
   },
   "outputs": [
    {
     "data": {
      "image/png": "[encoded data removed]",
      "text/plain": [
       "<Figure size 1440x360 with 2 Axes>"
      ]
     },
     "metadata": {
      "needs_background": "light"
     },
     "output_type": "display_data"
    }
   ],
   "source": [
    "#relation between week days and number of trips and user type\n",
    "user_type_chart = sb.catplot(data=df, x='start_time_day', col=\"user_type\", kind='count', color = sb.color_palette()[0], aspect = 2, order=weekday);\n",
    "\n",
    "user_type_chart.set_axis_labels(\"Day\", \"Number of Rides\");\n",
    "user_type_chart.set_titles(\"{col_name}\");\n",
    "\n",
    "user_type_chart.fig.suptitle('Ford GoBike System - Customers vs. Subscribers', y=1, fontweight='bold');"
   ]
  },
  {
   "cell_type": "markdown",
   "metadata": {
    "slideshow": {
     "slide_type": "notes"
    }
   },
   "source": [
    ">From the above 2 plots, I can say that the users who subscribe use bikes mainly for going to work and return from work. But users who don't subscribe(Customer) use bike for a casual walk during the day"
   ]
  },
  {
   "cell_type": "code",
   "execution_count": 16,
   "metadata": {
    "slideshow": {
     "slide_type": "subslide"
    }
   },
   "outputs": [
    {
     "data": {
      "image/png": "[encoded data removed]",
      "text/plain": [
       "<Figure size 1440x360 with 1 Axes>"
      ]
     },
     "metadata": {
      "needs_background": "light"
     },
     "output_type": "display_data"
    }
   ],
   "source": [
    "plt.figure(figsize = [20, 5])\n",
    "sb.boxplot(data = df, x = 'start_time_day', y = 'duration_sec', color = sb.color_palette()[0],order=weekday)\n",
    "plt.ylim([-10, 2000])\n",
    "plt.title('Trip Duration and Weekdays')\n",
    "plt.xlabel('User Type')\n",
    "plt.ylabel('Duration_sec')\n",
    "plt.show()"
   ]
  },
  {
   "cell_type": "code",
   "execution_count": 17,
   "metadata": {
    "slideshow": {
     "slide_type": "subslide"
    }
   },
   "outputs": [
    {
     "data": {
      "image/png": "[encoded data removed]",
      "text/plain": [
       "<Figure size 432x288 with 1 Axes>"
      ]
     },
     "metadata": {
      "needs_background": "light"
     },
     "output_type": "display_data"
    }
   ],
   "source": [
    "sb.boxplot(data = df, x = 'user_type', y = 'duration_sec', color = sb.color_palette()[0])\n",
    "plt.ylim([-10, 2000])\n",
    "plt.title('Trip Duration and User Type')\n",
    "plt.xlabel('User Type')\n",
    "plt.ylabel('Duration_sec')\n",
    "plt.show()"
   ]
  },
  {
   "cell_type": "markdown",
   "metadata": {
    "slideshow": {
     "slide_type": "notes"
    }
   },
   "source": [
    "> The 2 above plots prove that the customers use the bike for a casual walk so they take more time with bikes. \n",
    "Subscribers use bikes to go to work. so, they don't take time with bikes."
   ]
  },
  {
   "cell_type": "markdown",
   "metadata": {
    "slideshow": {
     "slide_type": "slide"
    }
   },
   "source": [
    "### Talk about some of the relationships you observed in this part of the investigation. How did the feature(s) of interest vary with other features in the dataset?\n",
    "\n",
    "> The above plots prove that the casual walk with bike time is more than the time subscribers take to go to work\n",
    "\n",
    "### Did you observe any interesting relationships between the other features (not the main feature(s) of interest)?\n",
    "\n",
    "> The other features are about station id and locations, for me, it is not an interesting thing in these columns"
   ]
  },
  {
   "cell_type": "markdown",
   "metadata": {
    "slideshow": {
     "slide_type": "slide"
    }
   },
   "source": [
    "## Multivariate Exploration\n",
    "\n",
    "> Create plots of three or more variables to investigate your data even\n",
    "further. Make sure that your investigations are justified, and follow from\n",
    "your work in the previous sections."
   ]
  },
  {
   "cell_type": "code",
   "execution_count": 19,
   "metadata": {
    "scrolled": true,
    "slideshow": {
     "slide_type": "subslide"
    }
   },
   "outputs": [
    {
     "data": {
      "image/png": "[encoded data removed]",
      "text/plain": [
       "<Figure size 1008x864 with 4 Axes>"
      ]
     },
     "metadata": {
      "needs_background": "light"
     },
     "output_type": "display_data"
    }
   ],
   "source": [
    "# Heatmap for customers and subscribers Hourly usage per day'\n",
    "plt.figure(figsize=(14,12))\n",
    "plt.suptitle('Customers and Subscribers Hourly Usage per Day',fontweight='bold')\n",
    "\n",
    "# subscribers\n",
    "plt.subplot(1, 2, 2)\n",
    "subscriber = df.query('user_type == \"Subscriber\"').groupby([\"start_time_hour\", \"start_time_day\"])[\"bike_id\"].size().reset_index()\n",
    "subscriber = subscriber.pivot(\"start_time_hour\", \"start_time_day\", \"bike_id\")\n",
    "sb.heatmap(subscriber, cmap=\"BuPu\")\n",
    "\n",
    "plt.title(\"Subscriber\", y=1)\n",
    "plt.xlabel('Weekday')\n",
    "plt.ylabel('Start Time Hour')\n",
    "\n",
    "# customers\n",
    "plt.subplot(1, 2, 1)\n",
    "customer = df.query('user_type == \"Customer\"').groupby([\"start_time_hour\", \"start_time_day\"])[\"bike_id\"].size().reset_index()\n",
    "customer = customer.pivot(\"start_time_hour\", \"start_time_day\", \"bike_id\")\n",
    "sb.heatmap(customer, cmap=\"BuPu\")\n",
    "\n",
    "plt.title(\"Customer\", y=1)\n",
    "plt.xlabel('Weekday')\n",
    "plt.ylabel('');\n",
    "\n"
   ]
  },
  {
   "cell_type": "markdown",
   "metadata": {
    "slideshow": {
     "slide_type": "slide"
    }
   },
   "source": [
    "### Talk about some of the relationships you observed in this part of the investigation. Were there features that strengthened each other in terms of looking at your feature(s) of interest?\n",
    "\n",
    "> My analysis focuses on relations between (user type, number of trips, and duration), I found a big relation between the number of trips and user type which is the subscribers usually bikes in going to work, the heat above maps illustrates the time of using biked for subscribers in morning and afternoon. Customers usually use bikes for casual walks.\n",
    "Also, the relation between user type and duration it from the plots above it seems customers take more time with the bike in their casual walk than subscribers in using a bike for going to work\n",
    "\n",
    "### Were there any interesting or surprising interactions between features?\n",
    "\n",
    "> The big relation between the number of trips and weekdays and user type which illustrates that the number of trips is more in working days because subscriber use the bike to go to work"
   ]
  },
  {
   "cell_type": "code",
   "execution_count": null,
   "metadata": {},
   "outputs": [],
   "source": []
  }
 ],
 "metadata": {
  "celltoolbar": "Slideshow",
  "kernelspec": {
   "display_name": "Python 3",
   "language": "python",
   "name": "python3"
  },
  "language_info": {
   "codemirror_mode": {
    "name": "ipython",
    "version": 3
   },
   "file_extension": ".py",
   "mimetype": "text/x-python",
   "name": "python",
   "nbconvert_exporter": "python",
   "pygments_lexer": "ipython3",
   "version": "3.7.4"
  }
 },
 "nbformat": 4,
 "nbformat_minor": 2
}
